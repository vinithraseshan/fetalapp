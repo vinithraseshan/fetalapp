{
 "cells": [
  {
   "cell_type": "code",
   "execution_count": 1,
   "metadata": {},
   "outputs": [],
   "source": [
    "import streamlit as st\n",
    "import matplotlib.pyplot as plt\n",
    "import numpy as np\n",
    "import pandas as pd\n",
    "import sklearn\n",
    "from sklearn.ensemble import RandomForestClassifier\n",
    "from sklearn.tree import DecisionTreeClassifier\n",
    "from sklearn.model_selection import train_test_split\n",
    "from sklearn.model_selection import train_test_split, GridSearchCV, RandomizedSearchCV\n",
    "from sklearn.model_selection import StratifiedKFold\n",
    "import time\n",
    "from sklearn.metrics import confusion_matrix, ConfusionMatrixDisplay\n",
    "import pickle\n",
    "\n",
    "# Package for generating classification report\n",
    "from sklearn.metrics import classification_report\n",
    "\n",
    "# Suppress warnings\n",
    "import warnings\n",
    "warnings.filterwarnings(\"ignore\")"
   ]
  },
  {
   "cell_type": "code",
   "execution_count": 2,
   "metadata": {},
   "outputs": [],
   "source": [
    "\n",
    "\n",
    "input = pd.read_csv('fetal_health.csv')\n",
    "X = input.drop(columns = 'fetal_health')\n",
    "y = input['fetal_health']\n",
    "\n",
    "train_X, test_X, train_y, test_y = train_test_split(X, y, test_size=0.3, random_state=1)\n",
    "rfclassifier = RandomForestClassifier(random_state = 1)\n",
    "rfclassifier.fit(train_X,train_y)\n",
    "\n",
    "ypred = rfclassifier.predict(test_X)\n"
   ]
  },
  {
   "cell_type": "code",
   "execution_count": 3,
   "metadata": {},
   "outputs": [],
   "source": [
    "rfcm = confusion_matrix(test_y, ypred, labels = rfclassifier.classes_)\n",
    "rfdisp = ConfusionMatrixDisplay(confusion_matrix = rfcm, display_labels = rfclassifier.classes_)\n",
    "\n",
    "\n",
    "fig, ax = plt.subplots(figsize = ((10, 8)))\n",
    "plt.rcParams.update({'font.size': 12})\n",
    "\n",
    "\n",
    "rfdisp.plot(cmap = 'PuRd', ax = ax);\n",
    "plt.savefig('rfcm.svg')"
   ]
  },
  {
   "cell_type": "code",
   "execution_count": 4,
   "metadata": {},
   "outputs": [],
   "source": [
    "rfreport = classification_report(test_y, ypred, output_dict = True)\n",
    "rfreport_df = pd.DataFrame(rfreport)\n",
    "rfreport_df.to_csv('rf_report.csv') "
   ]
  },
  {
   "cell_type": "code",
   "execution_count": 5,
   "metadata": {},
   "outputs": [],
   "source": [
    "importance = rfclassifier.feature_importances_\n",
    "\n",
    "# Storing feature importance as a dataframe\n",
    "feature_imp = pd.DataFrame(list(zip(train_X.columns, importance)),\n",
    "               columns = ['Feature', 'Importance'])\n",
    "\n",
    "feature_imp = feature_imp.sort_values('Importance', ascending = False).reset_index(drop = True)\n",
    "\n",
    "# Bar plot\n",
    "plt.figure(figsize=(10, 5))\n",
    "plt.barh(feature_imp['Feature'], feature_imp['Importance'], color = ['purple', 'pink'])\n",
    "\n",
    "plt.xlabel(\"Importance\")\n",
    "plt.ylabel(\"Input Feature\")\n",
    "plt.title('Which features affect price of mobiles') \n",
    "plt.tight_layout()\n",
    "plt.savefig(\"rfimp.svg\");\n"
   ]
  },
  {
   "cell_type": "code",
   "execution_count": 6,
   "metadata": {},
   "outputs": [],
   "source": [
    "rf_pickle = open('random_forest.pickle', 'wb') \n",
    "\n",
    "# Write DT model to the file\n",
    "pickle.dump(rfclassifier, rf_pickle) \n",
    "\n",
    "# Close the file\n",
    "rf_pickle.close() "
   ]
  }
 ],
 "metadata": {
  "kernelspec": {
   "display_name": "base",
   "language": "python",
   "name": "python3"
  },
  "language_info": {
   "codemirror_mode": {
    "name": "ipython",
    "version": 3
   },
   "file_extension": ".py",
   "mimetype": "text/x-python",
   "name": "python",
   "nbconvert_exporter": "python",
   "pygments_lexer": "ipython3",
   "version": "3.12.4"
  }
 },
 "nbformat": 4,
 "nbformat_minor": 2
}
