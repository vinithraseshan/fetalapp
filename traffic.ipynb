{
 "cells": [
  {
   "cell_type": "code",
   "execution_count": 55,
   "metadata": {},
   "outputs": [],
   "source": [
    "import pandas as pd\n",
    "import pickle\n",
    "import numpy as np\n",
    "from matplotlib import pyplot as plt\n",
    "from sklearn.model_selection import train_test_split\n",
    "import time\n",
    "from mapie.regression import MapieRegressor\n",
    "import xgboost as xgb\n",
    "from xgboost import XGBRegressor\n",
    "\n",
    "\n",
    "# To calculate coverage score\n",
    "from mapie.metrics import regression_coverage_score"
   ]
  },
  {
   "cell_type": "code",
   "execution_count": 56,
   "metadata": {},
   "outputs": [
    {
     "data": {
      "text/html": [
       "<div>\n",
       "<style scoped>\n",
       "    .dataframe tbody tr th:only-of-type {\n",
       "        vertical-align: middle;\n",
       "    }\n",
       "\n",
       "    .dataframe tbody tr th {\n",
       "        vertical-align: top;\n",
       "    }\n",
       "\n",
       "    .dataframe thead th {\n",
       "        text-align: right;\n",
       "    }\n",
       "</style>\n",
       "<table border=\"1\" class=\"dataframe\">\n",
       "  <thead>\n",
       "    <tr style=\"text-align: right;\">\n",
       "      <th></th>\n",
       "      <th>holiday</th>\n",
       "      <th>temp</th>\n",
       "      <th>rain_1h</th>\n",
       "      <th>snow_1h</th>\n",
       "      <th>clouds_all</th>\n",
       "      <th>weather_main</th>\n",
       "      <th>date_time</th>\n",
       "      <th>traffic_volume</th>\n",
       "    </tr>\n",
       "  </thead>\n",
       "  <tbody>\n",
       "    <tr>\n",
       "      <th>0</th>\n",
       "      <td>NaN</td>\n",
       "      <td>288.28</td>\n",
       "      <td>0.0</td>\n",
       "      <td>0.0</td>\n",
       "      <td>40</td>\n",
       "      <td>Clouds</td>\n",
       "      <td>10/2/12 9:00</td>\n",
       "      <td>5545</td>\n",
       "    </tr>\n",
       "    <tr>\n",
       "      <th>1</th>\n",
       "      <td>NaN</td>\n",
       "      <td>289.36</td>\n",
       "      <td>0.0</td>\n",
       "      <td>0.0</td>\n",
       "      <td>75</td>\n",
       "      <td>Clouds</td>\n",
       "      <td>10/2/12 10:00</td>\n",
       "      <td>4516</td>\n",
       "    </tr>\n",
       "    <tr>\n",
       "      <th>2</th>\n",
       "      <td>NaN</td>\n",
       "      <td>289.58</td>\n",
       "      <td>0.0</td>\n",
       "      <td>0.0</td>\n",
       "      <td>90</td>\n",
       "      <td>Clouds</td>\n",
       "      <td>10/2/12 11:00</td>\n",
       "      <td>4767</td>\n",
       "    </tr>\n",
       "    <tr>\n",
       "      <th>3</th>\n",
       "      <td>NaN</td>\n",
       "      <td>290.13</td>\n",
       "      <td>0.0</td>\n",
       "      <td>0.0</td>\n",
       "      <td>90</td>\n",
       "      <td>Clouds</td>\n",
       "      <td>10/2/12 12:00</td>\n",
       "      <td>5026</td>\n",
       "    </tr>\n",
       "    <tr>\n",
       "      <th>4</th>\n",
       "      <td>NaN</td>\n",
       "      <td>291.14</td>\n",
       "      <td>0.0</td>\n",
       "      <td>0.0</td>\n",
       "      <td>75</td>\n",
       "      <td>Clouds</td>\n",
       "      <td>10/2/12 13:00</td>\n",
       "      <td>4918</td>\n",
       "    </tr>\n",
       "  </tbody>\n",
       "</table>\n",
       "</div>"
      ],
      "text/plain": [
       "  holiday    temp  rain_1h  snow_1h  clouds_all weather_main      date_time  \\\n",
       "0     NaN  288.28      0.0      0.0          40       Clouds   10/2/12 9:00   \n",
       "1     NaN  289.36      0.0      0.0          75       Clouds  10/2/12 10:00   \n",
       "2     NaN  289.58      0.0      0.0          90       Clouds  10/2/12 11:00   \n",
       "3     NaN  290.13      0.0      0.0          90       Clouds  10/2/12 12:00   \n",
       "4     NaN  291.14      0.0      0.0          75       Clouds  10/2/12 13:00   \n",
       "\n",
       "   traffic_volume  \n",
       "0            5545  \n",
       "1            4516  \n",
       "2            4767  \n",
       "3            5026  \n",
       "4            4918  "
      ]
     },
     "execution_count": 56,
     "metadata": {},
     "output_type": "execute_result"
    }
   ],
   "source": [
    "traffic = pd.read_csv(\"Traffic_Volume.csv\")\n",
    "traffic.head()"
   ]
  },
  {
   "cell_type": "code",
   "execution_count": 57,
   "metadata": {},
   "outputs": [
    {
     "name": "stdout",
     "output_type": "stream",
     "text": [
      "<class 'pandas.core.frame.DataFrame'>\n",
      "Index: 61 entries, 126 to 47331\n",
      "Data columns (total 8 columns):\n",
      " #   Column          Non-Null Count  Dtype  \n",
      "---  ------          --------------  -----  \n",
      " 0   holiday         61 non-null     object \n",
      " 1   temp            61 non-null     float64\n",
      " 2   rain_1h         61 non-null     float64\n",
      " 3   snow_1h         61 non-null     float64\n",
      " 4   clouds_all      61 non-null     int64  \n",
      " 5   weather_main    61 non-null     object \n",
      " 6   date_time       61 non-null     object \n",
      " 7   traffic_volume  61 non-null     int64  \n",
      "dtypes: float64(3), int64(2), object(3)\n",
      "memory usage: 4.3+ KB\n"
     ]
    }
   ],
   "source": [
    "traffic.dropna(inplace = True)\n",
    "traffic.info()\n"
   ]
  },
  {
   "cell_type": "code",
   "execution_count": 58,
   "metadata": {},
   "outputs": [],
   "source": [
    "traffic['date_time'] = pd.to_datetime(traffic['date_time'])\n",
    "traffic['month'] = traffic['date_time'].dt.month\n",
    "traffic['weekday'] = traffic['date_time'].dt.weekday\n",
    "traffic['hour'] = traffic['date_time'].dt.hour\n",
    "\n",
    "# Drop the original 'date_time' column if no longer needed\n",
    "traffic.drop(columns=['date_time'], inplace=True)\n"
   ]
  },
  {
   "cell_type": "code",
   "execution_count": 59,
   "metadata": {},
   "outputs": [],
   "source": [
    "target = traffic['traffic_volume']\n",
    "predictors = traffic.drop(columns = ['traffic_volume'])\n",
    "features_encode = pd.get_dummies(predictors, columns = ['holiday','weather_main'])\n",
    "features_encode.head()\n",
    "training_columns = features_encode.columns.tolist()\n",
    "with open(\"training_columns.pkl\", \"wb\") as f:\n",
    "    pickle.dump(training_columns, f)"
   ]
  },
  {
   "cell_type": "code",
   "execution_count": 60,
   "metadata": {},
   "outputs": [
    {
     "name": "stdout",
     "output_type": "stream",
     "text": [
      "Training time: 0.11601376533508301s\n"
     ]
    }
   ],
   "source": [
    "train_X, test_X, train_y, test_y = train_test_split(features_encode,target,test_size=.3,random_state = 1)\n",
    "reg = XGBRegressor(random_state = 1)\n",
    "start = time.time()            # Start Time\n",
    "reg.fit(train_X, train_y)  \n",
    "stop = time.time()             # End Time\n",
    "print(f\"Training time: {stop - start}s\")\n",
    "y_pred = reg.predict(test_X)\n"
   ]
  },
  {
   "cell_type": "code",
   "execution_count": 61,
   "metadata": {},
   "outputs": [
    {
     "name": "stdout",
     "output_type": "stream",
     "text": [
      "Training time: 8.062741041183472s\n"
     ]
    }
   ],
   "source": [
    "mapie = MapieRegressor(estimator = reg, # Prediction model to use\n",
    "                       n_jobs = -1,\n",
    "                       random_state = 42)\n",
    "\n",
    "# Fit mapie regressor on training data\n",
    "start = time.time()  \n",
    "mapie.fit(train_X, train_y)\n",
    "stop = time.time()             \n",
    "print(f\"Training time: {stop - start}s\")\n",
    "\n",
    "alpha = 0.1 # For 90% confidence level\n",
    "\n",
    "# Use mapie.predict() to get predicted values and intervals\n",
    "y_test_pred, y_test_pis = mapie.predict(test_X, alpha = alpha)"
   ]
  },
  {
   "cell_type": "code",
   "execution_count": 62,
   "metadata": {},
   "outputs": [
    {
     "data": {
      "text/html": [
       "<div>\n",
       "<style scoped>\n",
       "    .dataframe tbody tr th:only-of-type {\n",
       "        vertical-align: middle;\n",
       "    }\n",
       "\n",
       "    .dataframe tbody tr th {\n",
       "        vertical-align: top;\n",
       "    }\n",
       "\n",
       "    .dataframe thead th {\n",
       "        text-align: right;\n",
       "    }\n",
       "</style>\n",
       "<table border=\"1\" class=\"dataframe\">\n",
       "  <thead>\n",
       "    <tr style=\"text-align: right;\">\n",
       "      <th></th>\n",
       "      <th>Actual Value</th>\n",
       "      <th>Predicted Value</th>\n",
       "      <th>Lower Value</th>\n",
       "      <th>Upper Value</th>\n",
       "    </tr>\n",
       "  </thead>\n",
       "  <tbody>\n",
       "    <tr>\n",
       "      <th>20345</th>\n",
       "      <td>1513</td>\n",
       "      <td>1421.810059</td>\n",
       "      <td>354.03</td>\n",
       "      <td>1622.44</td>\n",
       "    </tr>\n",
       "    <tr>\n",
       "      <th>47330</th>\n",
       "      <td>962</td>\n",
       "      <td>969.010010</td>\n",
       "      <td>640.87</td>\n",
       "      <td>1432.16</td>\n",
       "    </tr>\n",
       "    <tr>\n",
       "      <th>18946</th>\n",
       "      <td>494</td>\n",
       "      <td>1019.229980</td>\n",
       "      <td>490.35</td>\n",
       "      <td>1407.46</td>\n",
       "    </tr>\n",
       "    <tr>\n",
       "      <th>9455</th>\n",
       "      <td>615</td>\n",
       "      <td>557.390015</td>\n",
       "      <td>171.91</td>\n",
       "      <td>1087.70</td>\n",
       "    </tr>\n",
       "    <tr>\n",
       "      <th>40656</th>\n",
       "      <td>600</td>\n",
       "      <td>750.539978</td>\n",
       "      <td>300.52</td>\n",
       "      <td>1106.83</td>\n",
       "    </tr>\n",
       "  </tbody>\n",
       "</table>\n",
       "</div>"
      ],
      "text/plain": [
       "       Actual Value  Predicted Value  Lower Value  Upper Value\n",
       "20345          1513      1421.810059       354.03      1622.44\n",
       "47330           962       969.010010       640.87      1432.16\n",
       "18946           494      1019.229980       490.35      1407.46\n",
       "9455            615       557.390015       171.91      1087.70\n",
       "40656           600       750.539978       300.52      1106.83"
      ]
     },
     "execution_count": 62,
     "metadata": {},
     "output_type": "execute_result"
    }
   ],
   "source": [
    "predictions = test_y.to_frame()\n",
    "predictions.columns = ['Actual Value']\n",
    "predictions[\"Predicted Value\"] = y_test_pred.round(2)\n",
    "predictions[\"Lower Value\"] = y_test_pis[:, 0].round(2)\n",
    "predictions[\"Upper Value\"] = y_test_pis[:, 1].round(2)\n",
    "\n",
    "# Take a quick look\n",
    "predictions.tail(5)"
   ]
  },
  {
   "cell_type": "code",
   "execution_count": 63,
   "metadata": {},
   "outputs": [
    {
     "name": "stdout",
     "output_type": "stream",
     "text": [
      "Coverage: 94.74%\n"
     ]
    }
   ],
   "source": [
    "coverage = regression_coverage_score(test_y,           # Actual values\n",
    "                                     y_test_pis[:, 0], # Lower bound of prediction intervals\n",
    "                                     y_test_pis[:, 1]) # Upper bound of prediction intervals\n",
    "\n",
    "coverage_percentage = coverage * 100\n",
    "print(f\"Coverage: {coverage_percentage:.2f}%\")"
   ]
  },
  {
   "cell_type": "code",
   "execution_count": 64,
   "metadata": {},
   "outputs": [],
   "source": [
    "sorted_predictions = predictions.sort_values(by=['Actual Value']).reset_index(drop=True)\n",
    "\n",
    "# Create a figure and axis object with specified size and resolution\n",
    "fig, ax = plt.subplots(figsize=(8, 4))\n",
    "\n",
    "# Plot the actual values with green dots\n",
    "plt.plot(sorted_predictions[\"Actual Value\"], 'go', markersize=3, label=\"Actual Value\")\n",
    "\n",
    "# Fill the area between the lower and upper bounds of the prediction intervals with semi-transparent green color\n",
    "plt.fill_between(np.arange(len(sorted_predictions)),\n",
    "                 sorted_predictions[\"Lower Value\"],\n",
    "                 sorted_predictions[\"Upper Value\"],\n",
    "                 alpha=0.2, color=\"green\", label=\"Prediction Interval\")\n",
    "\n",
    "# Set font size for x and y ticks\n",
    "plt.xticks(fontsize=10)\n",
    "plt.yticks(fontsize=10)\n",
    "\n",
    "# Set the limit for the x-axis to cover the range of samples\n",
    "plt.xlim([0, len(sorted_predictions)])\n",
    "\n",
    "# Label the x-axis and y-axis with appropriate font size\n",
    "plt.xlabel(\"Samples\", fontsize=10)\n",
    "plt.ylabel(\"Target\", fontsize=10)\n",
    "\n",
    "# Add a title to the plot, including the coverage percentage, with bold formatting\n",
    "plt.title(f\"Prediction Intervals and Coverage: {coverage_percentage:.2f}%\", fontsize=12, fontweight=\"bold\")\n",
    "\n",
    "# Add a legend to the plot, placed in the upper left, with specified font size\n",
    "plt.legend(loc=\"upper left\", fontsize=10);\n",
    "plt.savefig('coverage.svg')"
   ]
  },
  {
   "cell_type": "code",
   "execution_count": 65,
   "metadata": {},
   "outputs": [],
   "source": [
    "importance = reg.feature_importances_\n",
    "\n",
    "# Storing feature importance as a dataframe\n",
    "feature_imp = pd.DataFrame(list(zip(train_X.columns, importance)),\n",
    "               columns = ['Feature', 'Importance'])\n",
    "\n",
    "feature_imp = feature_imp.sort_values('Importance', ascending = False).reset_index(drop = True)\n",
    "\n",
    "# Bar plot\n",
    "plt.figure(figsize=(10, 5))\n",
    "plt.barh(feature_imp['Feature'], feature_imp['Importance'], color = ['purple', 'pink'])\n",
    "\n",
    "plt.xlabel(\"Importance\")\n",
    "plt.ylabel(\"Input Feature\")\n",
    "plt.title('Which features are the most important for traffic volume prediction?') \n",
    "plt.tight_layout()\n",
    "plt.savefig(\"feature_imp.svg\");"
   ]
  },
  {
   "cell_type": "code",
   "execution_count": 66,
   "metadata": {},
   "outputs": [],
   "source": [
    "all_residuals = test_y - y_pred\n",
    "\n",
    "# Set up the figure with custom size and resolution (DPI)\n",
    "plt.figure(figsize=(6, 4), dpi = 150)\n",
    "\n",
    "# Plot the histogram of residuals\n",
    "plt.hist(all_residuals, bins = 25, color = 'lime', edgecolor = 'black')\n",
    "\n",
    "# Label X and Y axes\n",
    "plt.xlabel('Residuals', fontsize = 14)\n",
    "plt.ylabel('# of Test Datapoints', fontsize = 14)\n",
    "\n",
    "# Set the title of the plot\n",
    "plt.title('Distribution of Residuals', fontsize = 16)\n",
    "\n",
    "# Adjust the font size of x and y ticks\n",
    "plt.xticks(fontsize = 10)\n",
    "plt.yticks(fontsize = 10);\n",
    "plt.savefig('residual_plot.svg')"
   ]
  },
  {
   "cell_type": "code",
   "execution_count": 67,
   "metadata": {},
   "outputs": [],
   "source": [
    "plt.figure(figsize = (6, 4), dpi = 150)\n",
    "\n",
    "# Scatter plot of actual vs predicted values\n",
    "plt.scatter(test_y, y_pred, color = 'blue', alpha = 0.6, edgecolor = 'black', s = 40)\n",
    "\n",
    "# 45-degree reference line (perfect predictions)\n",
    "plt.plot([min(test_y), max(test_y)], [min(test_y), max(test_y)], color = 'red', linestyle = '--', lw = 2)\n",
    "\n",
    "# Axis labels and title\n",
    "plt.xlabel('Actual Values', fontsize = 10)\n",
    "plt.ylabel('Predicted Values', fontsize = 10)\n",
    "plt.title('Predicted vs Actual Values', fontsize = 12)\n",
    "\n",
    "# Adjust ticks\n",
    "plt.xticks(fontsize = 10)\n",
    "plt.yticks(fontsize = 10);\n",
    "plt.savefig('pred_vs_actual.svg')"
   ]
  },
  {
   "cell_type": "code",
   "execution_count": 68,
   "metadata": {},
   "outputs": [],
   "source": [
    "mapie_pickle = open('mapie.pickle', 'wb') \n",
    "\n",
    "pickle.dump(mapie, mapie_pickle) \n",
    "\n",
    "# Close the file\n",
    "mapie_pickle.close()"
   ]
  }
 ],
 "metadata": {
  "kernelspec": {
   "display_name": "base",
   "language": "python",
   "name": "python3"
  },
  "language_info": {
   "codemirror_mode": {
    "name": "ipython",
    "version": 3
   },
   "file_extension": ".py",
   "mimetype": "text/x-python",
   "name": "python",
   "nbconvert_exporter": "python",
   "pygments_lexer": "ipython3",
   "version": "3.12.4"
  }
 },
 "nbformat": 4,
 "nbformat_minor": 2
}
